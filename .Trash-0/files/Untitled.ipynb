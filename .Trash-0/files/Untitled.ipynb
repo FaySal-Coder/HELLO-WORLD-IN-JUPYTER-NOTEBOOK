{
 "cells": [
  {
   "cell_type": "code",
   "execution_count": null,
   "id": "92297cc7-86f3-475a-96d2-206eec9d86b0",
   "metadata": {},
   "outputs": [],
   "source": []
  }
 ],
 "metadata": {
  "kernelspec": {
   "display_name": "",
   "name": ""
  },
  "language_info": {
   "name": ""
  }
 },
 "nbformat": 4,
 "nbformat_minor": 5
}
